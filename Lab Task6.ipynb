{
 "cells": [
  {
   "cell_type": "code",
   "execution_count": 1,
   "metadata": {},
   "outputs": [
    {
     "name": "stderr",
     "output_type": "stream",
     "text": [
      "C:\\Users\\HP\\anaconda3\\lib\\site-packages\\pandas\\core\\computation\\expressions.py:20: UserWarning: Pandas requires version '2.7.3' or newer of 'numexpr' (version '2.7.1' currently installed).\n",
      "  from pandas.core.computation.check import NUMEXPR_INSTALLED\n"
     ]
    }
   ],
   "source": [
    "import pandas as pd\n",
    "import numpy as np\n",
    "from sklearn.model_selection import train_test_split\n",
    "from sklearn.tree import DecisionTreeClassifier\n",
    "from sklearn.ensemble import AdaBoostClassifier\n",
    "import xgboost as xgb\n",
    "from sklearn.metrics import accuracy_score, classification_report\n",
    "import warnings\n",
    "warnings.filterwarnings('ignore')"
   ]
  },
  {
   "cell_type": "code",
   "execution_count": 2,
   "metadata": {},
   "outputs": [],
   "source": [
    "np.random.seed(42)  # For reproducibility\n",
    "n_samples = 100  # Creating a larger synthetic dataset\n",
    "\n",
    "data = pd.DataFrame({\n",
    "    'cap-diameter': np.random.normal(1000, 200, n_samples),\n",
    "    'cap-shape': np.random.randint(1, 7, n_samples),\n",
    "    'gill-attachment': np.random.randint(1, 4, n_samples),\n",
    "    'gill-color': np.random.randint(1, 11, n_samples),\n",
    "    'stem-height': np.random.normal(2, 1, n_samples),\n",
    "    'stem-width': np.random.normal(1000, 300, n_samples),\n",
    "    'stem-color': np.random.randint(11, 13, n_samples),\n",
    "    'season': np.random.normal(1, 0.5, n_samples),\n",
    "    'class': np.random.randint(0, 2, n_samples)  # Binary classes\n",
    "})\n",
    "\n",
    "# Prepare features and target\n",
    "X = data.drop('class', axis=1)\n",
    "y = data['class']\n",
    "\n",
    "# Split the data\n",
    "X_train, X_test, y_train, y_test = train_test_split(X, y, test_size=0.2, random_state=42, stratify=y)\n",
    "\n",
    "def evaluate_model(y_true, y_pred, model_name):\n",
    "    accuracy = accuracy_score(y_true, y_pred)\n",
    "    report = classification_report(y_true, y_pred)\n",
    "    print(f\"\\n{model_name} Results:\")\n",
    "    print(f\"Accuracy: {accuracy:.4f}\")\n",
    "    print(\"Classification Report:\")\n",
    "    print(report)\n",
    "    return accuracy\n",
    "\n",
    "# Results storage\n",
    "results = []"
   ]
  },
  {
   "cell_type": "markdown",
   "metadata": {},
   "source": [
    "### Decision Stump Model"
   ]
  },
  {
   "cell_type": "code",
   "execution_count": 3,
   "metadata": {},
   "outputs": [
    {
     "name": "stdout",
     "output_type": "stream",
     "text": [
      "\n",
      "Decision Stump Results:\n",
      "Accuracy: 0.6500\n",
      "Classification Report:\n",
      "              precision    recall  f1-score   support\n",
      "\n",
      "           0       0.59      1.00      0.74        10\n",
      "           1       1.00      0.30      0.46        10\n",
      "\n",
      "    accuracy                           0.65        20\n",
      "   macro avg       0.79      0.65      0.60        20\n",
      "weighted avg       0.79      0.65      0.60        20\n",
      "\n"
     ]
    }
   ],
   "source": [
    "stump = DecisionTreeClassifier(max_depth=1)\n",
    "stump.fit(X_train, y_train)\n",
    "stump_pred = stump.predict(X_test)\n",
    "stump_acc = evaluate_model(y_test, stump_pred, \"Decision Stump\")\n",
    "results.append((\"Decision Stump\", stump_acc))"
   ]
  },
  {
   "cell_type": "markdown",
   "metadata": {},
   "source": [
    "### XGBoost with 1 weak learner"
   ]
  },
  {
   "cell_type": "code",
   "execution_count": 4,
   "metadata": {},
   "outputs": [
    {
     "name": "stdout",
     "output_type": "stream",
     "text": [
      "\n",
      "XGBoost (1 weak learner) Results:\n",
      "Accuracy: 0.6500\n",
      "Classification Report:\n",
      "              precision    recall  f1-score   support\n",
      "\n",
      "           0       0.59      1.00      0.74        10\n",
      "           1       1.00      0.30      0.46        10\n",
      "\n",
      "    accuracy                           0.65        20\n",
      "   macro avg       0.79      0.65      0.60        20\n",
      "weighted avg       0.79      0.65      0.60        20\n",
      "\n"
     ]
    }
   ],
   "source": [
    "xgb_1 = xgb.XGBClassifier(n_estimators=1, max_depth=1, learning_rate=0.1, objective='binary:logistic')\n",
    "xgb_1.fit(X_train, y_train)\n",
    "xgb_1_pred = xgb_1.predict(X_test)\n",
    "xgb_1_acc = evaluate_model(y_test, xgb_1_pred, \"XGBoost (1 weak learner)\")\n",
    "results.append((\"XGBoost (1 weak learner)\", xgb_1_acc))"
   ]
  },
  {
   "cell_type": "markdown",
   "metadata": {},
   "source": [
    "### XGBoost with 2 weak learners"
   ]
  },
  {
   "cell_type": "code",
   "execution_count": 5,
   "metadata": {},
   "outputs": [
    {
     "name": "stdout",
     "output_type": "stream",
     "text": [
      "\n",
      "XGBoost (2 weak learners) Results:\n",
      "Accuracy: 0.6500\n",
      "Classification Report:\n",
      "              precision    recall  f1-score   support\n",
      "\n",
      "           0       0.59      1.00      0.74        10\n",
      "           1       1.00      0.30      0.46        10\n",
      "\n",
      "    accuracy                           0.65        20\n",
      "   macro avg       0.79      0.65      0.60        20\n",
      "weighted avg       0.79      0.65      0.60        20\n",
      "\n"
     ]
    }
   ],
   "source": [
    "xgb_2 = xgb.XGBClassifier(n_estimators=2, max_depth=1, learning_rate=0.1, objective='binary:logistic')\n",
    "xgb_2.fit(X_train, y_train)\n",
    "xgb_2_pred = xgb_2.predict(X_test)\n",
    "xgb_2_acc = evaluate_model(y_test, xgb_2_pred, \"XGBoost (2 weak learners)\")\n",
    "results.append((\"XGBoost (2 weak learners)\", xgb_2_acc))"
   ]
  },
  {
   "cell_type": "markdown",
   "metadata": {},
   "source": [
    "### XGBoost with 3 weak learners"
   ]
  },
  {
   "cell_type": "code",
   "execution_count": 6,
   "metadata": {},
   "outputs": [
    {
     "name": "stdout",
     "output_type": "stream",
     "text": [
      "\n",
      "XGBoost (3 weak learners) Results:\n",
      "Accuracy: 0.6500\n",
      "Classification Report:\n",
      "              precision    recall  f1-score   support\n",
      "\n",
      "           0       0.59      1.00      0.74        10\n",
      "           1       1.00      0.30      0.46        10\n",
      "\n",
      "    accuracy                           0.65        20\n",
      "   macro avg       0.79      0.65      0.60        20\n",
      "weighted avg       0.79      0.65      0.60        20\n",
      "\n"
     ]
    }
   ],
   "source": [
    "xgb_3 = xgb.XGBClassifier(n_estimators=3, max_depth=1, learning_rate=0.1, objective='binary:logistic')\n",
    "xgb_3.fit(X_train, y_train)\n",
    "xgb_3_pred = xgb_3.predict(X_test)\n",
    "xgb_3_acc = evaluate_model(y_test, xgb_3_pred, \"XGBoost (3 weak learners)\")\n",
    "results.append((\"XGBoost (3 weak learners)\", xgb_3_acc))"
   ]
  },
  {
   "cell_type": "markdown",
   "metadata": {},
   "source": [
    "### XGBoost with n weak learners (n=18 in this case)"
   ]
  },
  {
   "cell_type": "code",
   "execution_count": 7,
   "metadata": {},
   "outputs": [
    {
     "name": "stdout",
     "output_type": "stream",
     "text": [
      "\n",
      "XGBoost (18 weak learners) Results:\n",
      "Accuracy: 0.7000\n",
      "Classification Report:\n",
      "              precision    recall  f1-score   support\n",
      "\n",
      "           0       0.62      1.00      0.77        10\n",
      "           1       1.00      0.40      0.57        10\n",
      "\n",
      "    accuracy                           0.70        20\n",
      "   macro avg       0.81      0.70      0.67        20\n",
      "weighted avg       0.81      0.70      0.67        20\n",
      "\n"
     ]
    }
   ],
   "source": [
    "n_estimators = 18\n",
    "xgb_n = xgb.XGBClassifier(n_estimators=n_estimators, max_depth=1, learning_rate=0.1, objective='binary:logistic')\n",
    "xgb_n.fit(X_train, y_train)\n",
    "xgb_n_pred = xgb_n.predict(X_test)\n",
    "xgb_n_acc = evaluate_model(y_test, xgb_n_pred, f\"XGBoost ({n_estimators} weak learners)\")\n",
    "results.append((f\"XGBoost ({n_estimators} weak learners)\", xgb_n_acc))"
   ]
  },
  {
   "cell_type": "code",
   "execution_count": 8,
   "metadata": {},
   "outputs": [
    {
     "name": "stdout",
     "output_type": "stream",
     "text": [
      "\n",
      "AdaBoost (18 weak learners) Results:\n",
      "Accuracy: 0.6000\n",
      "Classification Report:\n",
      "              precision    recall  f1-score   support\n",
      "\n",
      "           0       0.57      0.80      0.67        10\n",
      "           1       0.67      0.40      0.50        10\n",
      "\n",
      "    accuracy                           0.60        20\n",
      "   macro avg       0.62      0.60      0.58        20\n",
      "weighted avg       0.62      0.60      0.58        20\n",
      "\n"
     ]
    }
   ],
   "source": [
    "ada_n = AdaBoostClassifier(DecisionTreeClassifier(max_depth=1), n_estimators=n_estimators, learning_rate=0.1)\n",
    "ada_n.fit(X_train, y_train)\n",
    "ada_n_pred = ada_n.predict(X_test)\n",
    "ada_n_acc = evaluate_model(y_test, ada_n_pred, f\"AdaBoost ({n_estimators} weak learners)\")\n",
    "results.append((f\"AdaBoost ({n_estimators} weak learners)\", ada_n_acc))"
   ]
  },
  {
   "cell_type": "markdown",
   "metadata": {},
   "source": [
    "### Summary Table"
   ]
  },
  {
   "cell_type": "code",
   "execution_count": 9,
   "metadata": {},
   "outputs": [
    {
     "name": "stdout",
     "output_type": "stream",
     "text": [
      "\n",
      "Performance Summary:\n",
      "==================================================\n",
      "Model                          Accuracy  \n",
      "--------------------------------------------------\n",
      "Decision Stump                 0.6500\n",
      "XGBoost (1 weak learner)       0.6500\n",
      "XGBoost (2 weak learners)      0.6500\n",
      "XGBoost (3 weak learners)      0.6500\n",
      "XGBoost (18 weak learners)     0.7000\n",
      "AdaBoost (18 weak learners)    0.6000\n",
      "==================================================\n"
     ]
    }
   ],
   "source": [
    "print(\"\\nPerformance Summary:\")\n",
    "print(\"=\" * 50)\n",
    "print(f\"{'Model':<30} {'Accuracy':<10}\")\n",
    "print(\"-\" * 50)\n",
    "for model, acc in results:\n",
    "    print(f\"{model:<30} {acc:.4f}\")\n",
    "print(\"=\" * 50)"
   ]
  },
  {
   "cell_type": "code",
   "execution_count": null,
   "metadata": {},
   "outputs": [],
   "source": []
  }
 ],
 "metadata": {
  "kernelspec": {
   "display_name": "Python 3",
   "language": "python",
   "name": "python3"
  },
  "language_info": {
   "codemirror_mode": {
    "name": "ipython",
    "version": 3
   },
   "file_extension": ".py",
   "mimetype": "text/x-python",
   "name": "python",
   "nbconvert_exporter": "python",
   "pygments_lexer": "ipython3",
   "version": "3.8.5"
  }
 },
 "nbformat": 4,
 "nbformat_minor": 4
}
