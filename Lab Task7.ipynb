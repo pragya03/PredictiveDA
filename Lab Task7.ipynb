{
 "cells": [
  {
   "cell_type": "code",
   "execution_count": 1,
   "metadata": {},
   "outputs": [
    {
     "name": "stderr",
     "output_type": "stream",
     "text": [
      "C:\\Users\\HP\\anaconda3\\lib\\site-packages\\pandas\\core\\computation\\expressions.py:20: UserWarning: Pandas requires version '2.7.3' or newer of 'numexpr' (version '2.7.1' currently installed).\n",
      "  from pandas.core.computation.check import NUMEXPR_INSTALLED\n",
      "[nltk_data] Downloading package stopwords to\n",
      "[nltk_data]     C:\\Users\\HP\\AppData\\Roaming\\nltk_data...\n",
      "[nltk_data]   Package stopwords is already up-to-date!\n"
     ]
    },
    {
     "name": "stdout",
     "output_type": "stream",
     "text": [
      "Loading dataset...\n",
      "Assigning labels...\n",
      "Cleaning text...\n",
      "Splitting dataset...\n",
      "Tokenizing and padding sequences...\n",
      "Vocabulary size: 20000\n",
      "Number of training samples: 40000\n",
      "Number of testing samples: 10000\n"
     ]
    }
   ],
   "source": [
    "import pandas as pd\n",
    "import re\n",
    "import nltk\n",
    "from nltk.corpus import stopwords\n",
    "from tensorflow.keras.preprocessing.text import Tokenizer\n",
    "from tensorflow.keras.preprocessing.sequence import pad_sequences\n",
    "\n",
    "# Download stopwords\n",
    "nltk.download('stopwords')\n",
    "\n",
    "# Load the dataset\n",
    "print(\"Loading dataset...\")\n",
    "dataset_path = './IMDB Dataset.csv'  # Update the path to your dataset\n",
    "data = pd.read_csv(dataset_path)\n",
    "\n",
    "# Combine data: Assign labels (1 for positive, 0 for negative)\n",
    "print(\"Assigning labels...\")\n",
    "data['sentiment'] = data['sentiment'].map({'positive': 1, 'negative': 0})\n",
    "\n",
    "# Text Cleaning\n",
    "def clean_text(text):\n",
    "    # Convert to lowercase\n",
    "    text = text.lower()\n",
    "    # Remove HTML tags\n",
    "    text = re.sub(r'<.*?>', '', text)\n",
    "    # Remove special characters and digits\n",
    "    text = re.sub(r'[^a-z\\s]', '', text)\n",
    "    # Remove stopwords\n",
    "    stop_words = set(stopwords.words('english'))\n",
    "    text = ' '.join(word for word in text.split() if word not in stop_words)\n",
    "    return text\n",
    "\n",
    "print(\"Cleaning text...\")\n",
    "data['review'] = data['review'].apply(clean_text)\n",
    "\n",
    "# Splitting data into training and testing sets\n",
    "from sklearn.model_selection import train_test_split\n",
    "\n",
    "print(\"Splitting dataset...\")\n",
    "x_train, x_test, y_train, y_test = train_test_split(\n",
    "    data['review'], data['sentiment'], test_size=0.2, random_state=42\n",
    ")\n",
    "\n",
    "# Tokenization and Padding\n",
    "print(\"Tokenizing and padding sequences...\")\n",
    "vocab_size = 20000  # Maximum number of words in the vocabulary\n",
    "maxlen = 200        # Maximum length of input sequences\n",
    "\n",
    "# Initialize the tokenizer\n",
    "tokenizer = Tokenizer(num_words=vocab_size)\n",
    "tokenizer.fit_on_texts(x_train)  # Fit tokenizer on training data\n",
    "\n",
    "# Convert text to sequences\n",
    "x_train = tokenizer.texts_to_sequences(x_train)\n",
    "x_test = tokenizer.texts_to_sequences(x_test)\n",
    "\n",
    "# Pad sequences to ensure uniform length\n",
    "x_train = pad_sequences(x_train, maxlen=maxlen)\n",
    "x_test = pad_sequences(x_test, maxlen=maxlen)\n",
    "\n",
    "# Summary of preprocessing\n",
    "print(f\"Vocabulary size: {vocab_size}\")\n",
    "print(f\"Number of training samples: {len(x_train)}\")\n",
    "print(f\"Number of testing samples: {len(x_test)}\")\n",
    "\n",
    "# Data is ready for training a model!"
   ]
  },
  {
   "cell_type": "code",
   "execution_count": 2,
   "metadata": {},
   "outputs": [
    {
     "name": "stdout",
     "output_type": "stream",
     "text": [
      "Building the model...\n",
      "Compiling the model...\n",
      "Model: \"sequential\"\n",
      "_________________________________________________________________\n",
      " Layer (type)                Output Shape              Param #   \n",
      "=================================================================\n",
      " embedding (Embedding)       (None, 200, 128)          2560000   \n",
      "                                                                 \n",
      " lstm (LSTM)                 (None, 64)                49408     \n",
      "                                                                 \n",
      " dropout (Dropout)           (None, 64)                0         \n",
      "                                                                 \n",
      " dense (Dense)               (None, 1)                 65        \n",
      "                                                                 \n",
      "=================================================================\n",
      "Total params: 2609473 (9.95 MB)\n",
      "Trainable params: 2609473 (9.95 MB)\n",
      "Non-trainable params: 0 (0.00 Byte)\n",
      "_________________________________________________________________\n",
      "Training the model...\n",
      "Epoch 1/10\n",
      "500/500 [==============================] - 93s 183ms/step - loss: 0.3611 - accuracy: 0.8399 - val_loss: 0.2798 - val_accuracy: 0.8875\n",
      "Epoch 2/10\n",
      "500/500 [==============================] - 101s 202ms/step - loss: 0.1882 - accuracy: 0.9319 - val_loss: 0.3166 - val_accuracy: 0.8792\n",
      "Epoch 3/10\n",
      "500/500 [==============================] - 96s 193ms/step - loss: 0.1217 - accuracy: 0.9574 - val_loss: 0.3580 - val_accuracy: 0.8683\n",
      "Epoch 4/10\n",
      "500/500 [==============================] - 94s 188ms/step - loss: 0.0822 - accuracy: 0.9724 - val_loss: 0.4458 - val_accuracy: 0.8740\n",
      "Evaluating the model...\n",
      "313/313 [==============================] - 10s 31ms/step - loss: 0.2614 - accuracy: 0.8900\n",
      "Test Loss: 0.2613832652568817\n",
      "Test Accuracy: 0.8899999856948853\n"
     ]
    }
   ],
   "source": [
    "import tensorflow as tf\n",
    "from tensorflow.keras.models import Sequential\n",
    "from tensorflow.keras.layers import Embedding, LSTM, Dense, Dropout, GRU\n",
    "from tensorflow.keras.callbacks import EarlyStopping\n",
    "\n",
    "# Define hyperparameters\n",
    "vocab_size = 20000  # Vocabulary size from the tokenizer\n",
    "embedding_dim = 128  # Dimensionality of word embeddings\n",
    "maxlen = 200  # Maximum length of input sequences\n",
    "dropout_rate = 0.5  # Dropout rate to avoid overfitting\n",
    "lstm_units = 64  # Number of LSTM units\n",
    "gru_units = 64  # Number of GRU units\n",
    "\n",
    "# Build the model\n",
    "print(\"Building the model...\")\n",
    "\n",
    "model = Sequential([\n",
    "    # Input layer: Embedding layer to learn dense vector representations\n",
    "    Embedding(input_dim=vocab_size, output_dim=embedding_dim, input_length=maxlen),\n",
    "\n",
    "    # Hidden layer: Choose between LSTM or GRU\n",
    "    LSTM(lstm_units, return_sequences=False),  # Use GRU(gru_units) here if preferred\n",
    "\n",
    "    # Dropout for regularization\n",
    "    Dropout(dropout_rate),\n",
    "\n",
    "    # Output layer: Dense layer with sigmoid activation for binary classification\n",
    "    Dense(1, activation='sigmoid')\n",
    "])\n",
    "\n",
    "# Compile the model\n",
    "print(\"Compiling the model...\")\n",
    "model.compile(\n",
    "    loss='binary_crossentropy',  # Binary cross-entropy for binary classification\n",
    "    optimizer='adam',  # Adam optimizer\n",
    "    metrics=['accuracy']  # Accuracy as evaluation metric\n",
    ")\n",
    "\n",
    "# Display model summary\n",
    "model.summary()\n",
    "\n",
    "# Train the model\n",
    "print(\"Training the model...\")\n",
    "early_stopping = EarlyStopping(monitor='val_loss', patience=3, restore_best_weights=True)\n",
    "\n",
    "history = model.fit(\n",
    "    x_train, y_train,\n",
    "    epochs=10,  # Adjust epochs as needed\n",
    "    batch_size=64,  # Batch size for training\n",
    "    validation_split=0.2,  # Use 20% of training data for validation\n",
    "    callbacks=[early_stopping]\n",
    ")\n",
    "\n",
    "# Evaluate the model\n",
    "print(\"Evaluating the model...\")\n",
    "test_loss, test_accuracy = model.evaluate(x_test, y_test)\n",
    "print(f\"Test Loss: {test_loss}\")\n",
    "print(f\"Test Accuracy: {test_accuracy}\")"
   ]
  },
  {
   "cell_type": "code",
   "execution_count": 3,
   "metadata": {},
   "outputs": [
    {
     "name": "stdout",
     "output_type": "stream",
     "text": [
      "Training the model...\n",
      "Epoch 1/10\n",
      "500/500 [==============================] - 103s 206ms/step - loss: 0.1940 - accuracy: 0.9292 - val_loss: 0.3273 - val_accuracy: 0.8779\n",
      "Epoch 2/10\n",
      "500/500 [==============================] - 105s 210ms/step - loss: 0.1268 - accuracy: 0.9562 - val_loss: 0.4334 - val_accuracy: 0.8731\n",
      "Epoch 3/10\n",
      "500/500 [==============================] - 100s 200ms/step - loss: 0.0998 - accuracy: 0.9655 - val_loss: 0.4259 - val_accuracy: 0.8676\n",
      "Epoch 4/10\n",
      "500/500 [==============================] - 95s 191ms/step - loss: 0.0598 - accuracy: 0.9804 - val_loss: 0.5332 - val_accuracy: 0.8577\n",
      "Training completed.\n"
     ]
    }
   ],
   "source": [
    "from tensorflow.keras.callbacks import EarlyStopping\n",
    "\n",
    "# Define training parameters\n",
    "epochs = 10        # Number of epochs to train the model\n",
    "batch_size = 64     # Batch size for training\n",
    "validation_split = 0.2  # Use 20% of the training data for validation\n",
    "\n",
    "# Early stopping to prevent overfitting\n",
    "early_stopping = EarlyStopping(\n",
    "    monitor='val_loss',  # Monitor the validation loss\n",
    "    patience=3,          # Stop training after 3 epochs with no improvement\n",
    "    restore_best_weights=True  # Restore model weights from the best epoch\n",
    ")\n",
    "\n",
    "print(\"Training the model...\")\n",
    "\n",
    "# Train the model\n",
    "history = model.fit(\n",
    "    x_train, y_train,              # Training data and labels\n",
    "    epochs=epochs,                 # Number of epochs\n",
    "    batch_size=batch_size,         # Batch size\n",
    "    validation_split=validation_split,  # Validation split\n",
    "    callbacks=[early_stopping],    # Early stopping callback\n",
    "    verbose=1                      # Display training progress\n",
    ")\n",
    "\n",
    "print(\"Training completed.\")"
   ]
  },
  {
   "cell_type": "code",
   "execution_count": 4,
   "metadata": {},
   "outputs": [
    {
     "data": {
      "image/png": "[encoded data removed]",
      "text/plain": [
       "<Figure size 432x288 with 1 Axes>"
      ]
     },
     "metadata": {
      "needs_background": "light"
     },
     "output_type": "display_data"
    },
    {
     "data": {
      "image/png": "[encoded data removed]",
      "text/plain": [
       "<Figure size 432x288 with 1 Axes>"
      ]
     },
     "metadata": {
      "needs_background": "light"
     },
     "output_type": "display_data"
    }
   ],
   "source": [
    "import matplotlib.pyplot as plt\n",
    "\n",
    "# Plot training and validation accuracy\n",
    "plt.plot(history.history['accuracy'], label='Training Accuracy')\n",
    "plt.plot(history.history['val_accuracy'], label='Validation Accuracy')\n",
    "plt.title('Model Accuracy')\n",
    "plt.xlabel('Epochs')\n",
    "plt.ylabel('Accuracy')\n",
    "plt.legend()\n",
    "plt.show()\n",
    "\n",
    "# Plot training and validation loss\n",
    "plt.plot(history.history['loss'], label='Training Loss')\n",
    "plt.plot(history.history['val_loss'], label='Validation Loss')\n",
    "plt.title('Model Loss')\n",
    "plt.xlabel('Epochs')\n",
    "plt.ylabel('Loss')\n",
    "plt.legend()\n",
    "plt.show()"
   ]
  },
  {
   "cell_type": "code",
   "execution_count": 5,
   "metadata": {},
   "outputs": [
    {
     "name": "stdout",
     "output_type": "stream",
     "text": [
      "Evaluating the model...\n",
      "313/313 [==============================] - 11s 37ms/step - loss: 0.3013 - accuracy: 0.8834\n",
      "Test Loss: 0.3013\n",
      "Test Accuracy: 0.8834\n"
     ]
    }
   ],
   "source": [
    "# Evaluate the model on the test dataset\n",
    "print(\"Evaluating the model...\")\n",
    "test_loss, test_accuracy = model.evaluate(x_test, y_test, verbose=1)\n",
    "print(f\"Test Loss: {test_loss:.4f}\")\n",
    "print(f\"Test Accuracy: {test_accuracy:.4f}\")"
   ]
  },
  {
   "cell_type": "code",
   "execution_count": 6,
   "metadata": {},
   "outputs": [
    {
     "data": {
      "image/png": "[encoded data removed]",
      "text/plain": [
       "<Figure size 432x288 with 1 Axes>"
      ]
     },
     "metadata": {
      "needs_background": "light"
     },
     "output_type": "display_data"
    },
    {
     "data": {
      "image/png": "[encoded data removed]",
      "text/plain": [
       "<Figure size 432x288 with 1 Axes>"
      ]
     },
     "metadata": {
      "needs_background": "light"
     },
     "output_type": "display_data"
    }
   ],
   "source": [
    "import matplotlib.pyplot as plt\n",
    "\n",
    "# Plot training and validation accuracy\n",
    "plt.plot(history.history['accuracy'], label='Training Accuracy')\n",
    "plt.plot(history.history['val_accuracy'], label='Validation Accuracy')\n",
    "plt.title('Model Accuracy')\n",
    "plt.xlabel('Epochs')\n",
    "plt.ylabel('Accuracy')\n",
    "plt.legend()\n",
    "plt.show()\n",
    "\n",
    "# Plot training and validation loss\n",
    "plt.plot(history.history['loss'], label='Training Loss')\n",
    "plt.plot(history.history['val_loss'], label='Validation Loss')\n",
    "plt.title('Model Loss')\n",
    "plt.xlabel('Epochs')\n",
    "plt.ylabel('Loss')\n",
    "plt.legend()\n",
    "plt.show()"
   ]
  },
  {
   "cell_type": "code",
   "execution_count": 7,
   "metadata": {},
   "outputs": [
    {
     "name": "stdout",
     "output_type": "stream",
     "text": [
      "Predicting sentiments for new reviews...\n",
      "1/1 [==============================] - 1s 581ms/step\n",
      "Review: The movie was fantastic! The characters were well-developed and the plot was engaging.\n",
      "Sentiment: Positive (Confidence: 0.8397)\n",
      "\n",
      "1/1 [==============================] - 0s 25ms/step\n",
      "Review: I didn't enjoy the movie. The story was boring and the acting was terrible.\n",
      "Sentiment: Negative (Confidence: 0.0322)\n",
      "\n",
      "1/1 [==============================] - 0s 41ms/step\n",
      "Review: It was an average movie, not great but not bad either.\n",
      "Sentiment: Negative (Confidence: 0.3969)\n",
      "\n"
     ]
    }
   ],
   "source": [
    "# Function to preprocess new reviews\n",
    "def preprocess_review(review):\n",
    "    # Text cleaning: convert to lowercase, remove special characters, etc.\n",
    "    review = re.sub(r'<.*?>', '', review)  # Remove HTML tags\n",
    "    review = re.sub(r'[^a-zA-Z\\s]', '', review).lower()  # Remove special chars\n",
    "    review = ' '.join(word for word in review.split() if word not in stopwords.words('english'))\n",
    "    \n",
    "    # Tokenize and pad the review\n",
    "    review_seq = tokenizer.texts_to_sequences([review])\n",
    "    review_padded = pad_sequences(review_seq, maxlen=maxlen)\n",
    "    return review_padded\n",
    "\n",
    "# Test with new reviews\n",
    "new_reviews = [\n",
    "    \"The movie was fantastic! The characters were well-developed and the plot was engaging.\",\n",
    "    \"I didn't enjoy the movie. The story was boring and the acting was terrible.\",\n",
    "    \"It was an average movie, not great but not bad either.\"\n",
    "]\n",
    "\n",
    "print(\"Predicting sentiments for new reviews...\")\n",
    "for review in new_reviews:\n",
    "    preprocessed_review = preprocess_review(review)\n",
    "    prediction = model.predict(preprocessed_review)[0][0]  # Get the probability\n",
    "    sentiment = \"Positive\" if prediction > 0.5 else \"Negative\"\n",
    "    print(f\"Review: {review}\")\n",
    "    print(f\"Sentiment: {sentiment} (Confidence: {prediction:.4f})\\n\")"
   ]
  }
 ],
 "metadata": {
  "kernelspec": {
   "display_name": "Python 3",
   "language": "python",
   "name": "python3"
  },
  "language_info": {
   "codemirror_mode": {
    "name": "ipython",
    "version": 3
   },
   "file_extension": ".py",
   "mimetype": "text/x-python",
   "name": "python",
   "nbconvert_exporter": "python",
   "pygments_lexer": "ipython3",
   "version": "3.8.5"
  }
 },
 "nbformat": 4,
 "nbformat_minor": 4
}
